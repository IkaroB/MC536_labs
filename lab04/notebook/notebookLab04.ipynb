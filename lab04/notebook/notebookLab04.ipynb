{
  "nbformat": 4,
  "nbformat_minor": 0,
  "metadata": {
    "colab": {
      "name": "notebookLab04.ipynb",
      "provenance": [],
      "collapsed_sections": []
    },
    "kernelspec": {
      "name": "python3",
      "display_name": "Python 3"
    }
  },
  "cells": [
    {
      "cell_type": "code",
      "metadata": {
        "id": "IS6uGO5pwO6o"
      },
      "source": [
        "%defaultDatasource jdbc:h2:mem:db"
      ],
      "execution_count": null,
      "outputs": []
    },
    {
      "cell_type": "code",
      "metadata": {
        "id": "iuQcFPPz38mx"
      },
      "source": [
        "Pessoas(__Id__, Genero, Idade)\n",
        "Medicamentos(__Codigo__, NomeMedicamento)\n",
        "Usos(IdPessoa, CodMedicamento, DiasUso)"
      ],
      "execution_count": null,
      "outputs": []
    },
    {
      "cell_type": "code",
      "metadata": {
        "id": "7O60oz_138IS"
      },
      "source": [
        "CREATE TABLE Pessoa (\n",
        "  Id VARCHAR(5) NOT NULL,\n",
        "  Genero INTEGER,\n",
        "  Idade INTEGER,\n",
        "  PRIMARY KEY(Id)\n",
        ") AS SELECT\n",
        "    Id,\n",
        "    Genero,\n",
        "    Idade\n",
        "FROM CSVREAD('../demographic-person.csv');\n",
        "\n",
        "CREATE TABLE Medicamento (\n",
        "  Codigo VARCHAR(6) NOT NULL,\n",
        "  NomeMedicamento VARCHAR(100) NOT NULL,\n",
        "  PRIMARY KEY(Codigo)\n",
        ") AS SELECT\n",
        "    Codigo,\n",
        "    NomeMedicamento\n",
        "FROM CSVREAD('../medications-drug.csv');\n",
        "\n",
        "CREATE TABLE UsoMedicamento (\n",
        "  IdPessoa VARCHAR(5) NOT NULL,\n",
        "  CodMedicamento VARCHAR(6) NOT NULL,\n",
        "  DiasUso INTEGER,\n",
        "  FOREIGN KEY(IdPessoa)\n",
        "    REFERENCES Pessoa(Id)\n",
        "      ON DELETE NO ACTION\n",
        "      ON UPDATE NO ACTION,\n",
        "  FOREIGN KEY(CodMedicamento)\n",
        "    REFERENCES Medicamento(Codigo)\n",
        "      ON DELETE NO ACTION\n",
        "      ON UPDATE NO ACTION\n",
        ") AS SELECT\n",
        "    IdPessoa,\n",
        "    CodMedicamento,\n",
        "    DiasUso\n",
        "FROM CSVREAD('..4/medications-use.csv');"
      ],
      "execution_count": null,
      "outputs": []
    },
    {
      "cell_type": "code",
      "metadata": {
        "id": "WneF1LQQ6Mpg"
      },
      "source": [
        "SELECT * FROM Medicamentos"
      ],
      "execution_count": null,
      "outputs": []
    },
    {
      "cell_type": "code",
      "metadata": {
        "id": "lrOjWuDt-WSh"
      },
      "source": [
        "SELECT * FROM Pessoas"
      ],
      "execution_count": null,
      "outputs": []
    },
    {
      "cell_type": "code",
      "metadata": {
        "id": "O2JjrMA3-aHt"
      },
      "source": [
        "SELECT * FROM Usos"
      ],
      "execution_count": null,
      "outputs": []
    },
    {
      "cell_type": "code",
      "metadata": {
        "id": "eF9uIHZw-idV"
      },
      "source": [
        "SELECT Id FROM Pessoas WHERE Idade > 60"
      ],
      "execution_count": null,
      "outputs": []
    },
    {
      "cell_type": "code",
      "metadata": {
        "id": "KsVeWyIG-tpQ"
      },
      "source": [
        "SELECT DISTINCT Idade FROM Pessoas"
      ],
      "execution_count": null,
      "outputs": []
    },
    {
      "cell_type": "code",
      "metadata": {
        "id": "gKPYYWGd-3Fs"
      },
      "source": [
        "SELECT Pessoas.Id, Pessoas.Idade, Usos.CodMedicamento, Usos.DiasUso\n",
        "FROM Pessoas, Usos\n",
        "WHERE Pessoas.Id = Usos.IdPessoa"
      ],
      "execution_count": null,
      "outputs": []
    },
    {
      "cell_type": "code",
      "metadata": {
        "id": "7_OJ8bgM_aBc"
      },
      "source": [
        "SELECT Pessoas.Id, Pessoas.Idade, Medicamentos.NomeMedicamento, Usos.DiasUso\n",
        "FROM Pessoas, Medicamentos, Usos\n",
        "WHERE Pessoas.Id = Usos.IdPessoa AND Usos.CodMedicamento = Medicamentos.Codigo"
      ],
      "execution_count": null,
      "outputs": []
    },
    {
      "cell_type": "code",
      "metadata": {
        "id": "NkD2zFOw-9Ho"
      },
      "source": [
        "SELECT DISTINCT Medicamentos.NomeMedicamento\n",
        "FROM Medicamentos, Usos, Pessoas\n",
        "WHERE Medicamentos.Codigo = Usos.CodMedicamento AND Pessoas.Id = Usos.IdPessoa "
      ],
      "execution_count": null,
      "outputs": []
    },
    {
      "cell_type": "code",
      "metadata": {
        "id": "DKFzaQtP_gTH"
      },
      "source": [
        "SELECT Medicamentos.NomeMedicamento \n",
        "FROM Medicamentos, Usos\n",
        "WHERE Medicamentos.Codigo = Usos.CodMedicamento AND Usos.DiasUso > 2000"
      ],
      "execution_count": null,
      "outputs": []
    }
  ]
}